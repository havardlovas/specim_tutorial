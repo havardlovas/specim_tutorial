{
 "cells": [
  {
   "cell_type": "markdown",
   "metadata": {},
   "source": [
    "# 2. Georeferencing\n",
    "\n",
    "This tutorial takes on the challenge of georeferencing the imagery. To georeference, you need:\n",
    "\n",
    "a. Synchronized navigation data covering the time of the transect (or sub-transect chunk) in the form of 3 positions and 3 orientations.\n",
    "\n",
    "b. A camera model (we use *.XML files) describing boresight angles, lever arms, focal length, principal point, and distortion coefficients.\n",
    "\n",
    "c. A digital elevation/surface model, either in as orthographic \"*.tif\" file, or as a triangular mesh, \"*.ply\" file."
   ]
  },
  {
   "cell_type": "code",
   "execution_count": 1,
   "metadata": {},
   "outputs": [
    {
     "name": "stdout",
     "output_type": "stream",
     "text": [
      "Jupyter environment detected. Enabling Open3D WebVisualizer.\n",
      "[Open3D INFO] WebRTC GUI backend enabled.\n",
      "[Open3D INFO] WebRTCWindowSystem: HTTP handshake server disabled.\n"
     ]
    }
   ],
   "source": [
    "\"\"\"We start by some imports\"\"\"\n",
    "# Standard python library\n",
    "import configparser\n",
    "import sys\n",
    "import os\n",
    "\n",
    "module_path = 'C:/Users/haavasl/VSCodeProjects/hyperspectral_toolchain/src/'\n",
    "if module_path not in sys.path:\n",
    "    sys.path.append(module_path)\n",
    "\n",
    "# Local resources\n",
    "from scripts import georeference\n",
    "from lib import parsing_utils\n",
    "from scripts import visualize\n",
    "from scripts.modulate_config import prepend_data_dir_to_relative_paths"
   ]
  },
  {
   "cell_type": "code",
   "execution_count": 2,
   "metadata": {},
   "outputs": [],
   "source": [
    "# To keep track of the variety of settings, we use a config file\n",
    "config_file = 'D:/HyperspectralDataAll/HI/2022-08-31-060000-Remoy-Specim/configuration.ini'\n",
    "\n",
    "# Set the data directory for the mission (locally where the data is stored)\n",
    "prepend_data_dir_to_relative_paths(config_path=config_file)\n"
   ]
  },
  {
   "cell_type": "markdown",
   "metadata": {},
   "source": [
    "\n"
   ]
  },
  {
   "cell_type": "code",
   "execution_count": null,
   "metadata": {},
   "outputs": [],
   "source": [
    "\n",
    "\n",
    "config = parsing_utils.export_pose(config_file)\n"
   ]
  },
  {
   "cell_type": "code",
   "execution_count": null,
   "metadata": {},
   "outputs": [],
   "source": [
    "config = configparser.ConfigParser()\n",
    "config.read(config_file)"
   ]
  }
 ],
 "metadata": {
  "kernelspec": {
   "display_name": "Python 3",
   "language": "python",
   "name": "python3"
  },
  "language_info": {
   "codemirror_mode": {
    "name": "ipython",
    "version": 3
   },
   "file_extension": ".py",
   "mimetype": "text/x-python",
   "name": "python",
   "nbconvert_exporter": "python",
   "pygments_lexer": "ipython3",
   "version": "3.8.18"
  }
 },
 "nbformat": 4,
 "nbformat_minor": 2
}
