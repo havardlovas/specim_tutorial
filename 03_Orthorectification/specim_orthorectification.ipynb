{
 "cells": [
  {
   "cell_type": "markdown",
   "metadata": {},
   "source": [
    "# Orthorectification and feature matching\n"
   ]
  },
  {
   "cell_type": "code",
   "execution_count": 1,
   "metadata": {},
   "outputs": [
    {
     "name": "stdout",
     "output_type": "stream",
     "text": [
      "Jupyter environment detected. Enabling Open3D WebVisualizer.\n",
      "[Open3D INFO] WebRTC GUI backend enabled.\n",
      "[Open3D INFO] WebRTCWindowSystem: HTTP handshake server disabled.\n"
     ]
    }
   ],
   "source": [
    "import configparser\n",
    "import os\n",
    "import pickle\n",
    "import sys\n",
    "from scipy.spatial.transform import Rotation as RotLib\n",
    "import h5py\n",
    "import matplotlib.pyplot as plt\n",
    "import numpy as np\n",
    "import pandas as pd\n",
    "import pyvista as pv\n",
    "from scipy.interpolate import interp1d\n",
    "\n",
    "\n",
    "module_path = 'C:/Users/haavasl/VSCodeProjects/hyperspectral_toolchain/src/'\n",
    "if module_path not in sys.path:\n",
    "    sys.path.append(module_path)\n",
    "    \n",
    "# Local resources:\n",
    "from scripts.geometry import CameraGeometry, FeatureCalibrationObject, CalibHSI\n",
    "from scripts.gis_tools import GeoSpatialAbstractionHSI\n",
    "from lib.parsing_utils import Hyperspectral\n",
    "from scripts.modulate_config import prepend_data_dir_to_relative_paths"
   ]
  },
  {
   "cell_type": "markdown",
   "metadata": {},
   "source": [
    "## We use the previously defined config file, and orthorectify the data"
   ]
  },
  {
   "cell_type": "code",
   "execution_count": 2,
   "metadata": {},
   "outputs": [],
   "source": [
    "DATA_DIR = 'D:/HyperspectralDataAll/HI/2022-08-31-060000-Remoy-Specim/'\n",
    "config_file_path = DATA_DIR + 'configuration.ini'\n",
    "# Set the data directory for the mission (locally where the data is stored)\n",
    "prepend_data_dir_to_relative_paths(config_path=config_file_path, DATA_DIR=DATA_DIR)\n",
    "\n",
    "\n",
    "# Only resample RGB? This option is quicker, if refinements to the georeferencing is to be made\n",
    "resample_rgb_only = False\n",
    "\n",
    "# Chunk size in gigabytes of the resampled data\n",
    "chunk_size_GB = 2\n"
   ]
  },
  {
   "cell_type": "code",
   "execution_count": 17,
   "metadata": {},
   "outputs": [
    {
     "name": "stdout",
     "output_type": "stream",
     "text": [
      "{'description': 'Radiance converted, georeferenced data', 'samples': '2095', 'lines': '1977', 'bands': '224', 'header offset': '0', 'file type': 'ENVI Standard', 'data type': '4', 'interleave': 'bsq', 'sensor type': 'Specim FX10', 'byte order': '0', 'map info': ['UTM', '1', '1', '327712.387641734', '6919282.76670769', '0.1', '0.1', '32', 'North'], 'coordinate system string': ['PROJCS[\"ETRS_1989_UTM_Zone_32N\"', 'GEOGCS[\"GCS_ETRS_1989\"', 'DATUM[\"D_ETRS_1989\"', 'SPHEROID[\"GRS_1980\"', '6378137.0', '298.257222101]]', 'PRIMEM[\"Greenwich\"', '0.0]', 'UNIT[\"Degree\"', '0.0174532925199433]]', 'PROJECTION[\"Transverse_Mercator\"]', 'PARAMETER[\"False_Easting\"', '500000.0]', 'PARAMETER[\"False_Northing\"', '0.0]', 'PARAMETER[\"Central_Meridian\"', '9.0]', 'PARAMETER[\"Scale_Factor\"', '0.9996]', 'PARAMETER[\"Latitude_Of_Origin\"', '0.0]', 'UNIT[\"Meter\"', '1.0]]'], 'data ignore value': '-9999', 'fwhm': ['5.21', '5.2', '5.18', '5.17', '5.16', '5.15', '5.14', '5.14', '5.13', '5.13', '5.13', '5.15', '5.15', '5.15', '5.14', '5.12', '5.1', '5.08', '5.06', '5.06', '5.06', '5.06', '5.06', '5.06', '5.06', '5.07', '5.08', '5.08', '5.09', '5.09', '5.09', '5.09', '5.09', '5.09', '5.09', '5.09', '5.1', '5.1', '5.1', '5.1', '5.11', '5.11', '5.11', '5.12', '5.12', '5.11', '5.11', '5.11', '5.11', '5.11', '5.11', '5.11', '5.1', '5.11', '5.11', '5.11', '5.11', '5.11', '5.12', '5.12', '5.12', '5.12', '5.13', '5.13', '5.13', '5.14', '5.15', '5.15', '5.15', '5.15', '5.16', '5.17', '5.17', '5.17', '5.18', '5.19', '5.19', '5.18', '5.18', '5.18', '5.19', '5.2', '5.2', '5.2', '5.19', '5.2', '5.2', '5.21', '5.22', '5.22', '5.22', '5.22', '5.23', '5.23', '5.24', '5.25', '5.26', '5.27', '5.27', '5.28', '5.28', '5.29', '5.3', '5.32', '5.33', '5.33', '5.34', '5.35', '5.37', '5.39', '5.41', '5.42', '5.44', '5.45', '5.47', '5.48', '5.5', '5.52', '5.54', '5.56', '5.58', '5.61', '5.63', '5.65', '5.67', '5.69', '5.7', '5.71', '5.72', '5.74', '5.76', '5.78', '5.79', '5.81', '5.82', '5.83', '5.84', '5.85', '5.85', '5.86', '5.86', '5.87', '5.87', '5.88', '5.89', '5.89', '5.9', '5.9', '5.9', '5.89', '5.88', '5.87', '5.87', '5.86', '5.86', '5.86', '5.85', '5.84', '5.83', '5.82', '5.8', '5.78', '5.77', '5.76', '5.75', '5.74', '5.73', '5.72', '5.71', '5.71', '5.7', '5.69', '5.69', '5.68', '5.67', '5.67', '5.66', '5.66', '5.67', '5.68', '5.68', '5.69', '5.7', '5.71', '5.72', '5.72', '5.73', '5.73', '5.74', '5.75', '5.76', '5.77', '5.79', '5.8', '5.81', '5.83', '5.84', '5.84', '5.85', '5.85', '5.85', '5.85', '5.85', '5.85', '5.85', '5.85', '5.84', '5.84', '5.84', '5.84', '5.84', '5.84', '5.84', '5.83', '5.83', '5.82', '5.82', '5.81', '5.81', '5.81', '5.81', '5.81', '5.81', '5.81'], 'wavelengths': ['397.66', '400.28', '402.9', '405.52', '408.13', '410.75', '413.37', '416.0', '418.62', '421.24', '423.86', '426.49', '429.12', '431.74', '434.37', '437.0', '439.63', '442.26', '444.89', '447.52', '450.16', '452.79', '455.43', '458.06', '460.7', '463.34', '465.98', '468.62', '471.26', '473.9', '476.54', '479.18', '481.83', '484.47', '487.12', '489.77', '492.42', '495.07', '497.72', '500.37', '503.02', '505.67', '508.32', '510.98', '513.63', '516.29', '518.95', '521.61', '524.27', '526.93', '529.59', '532.25', '534.91', '537.57', '540.24', '542.91', '545.57', '548.24', '550.91', '553.58', '556.25', '558.92', '561.59', '564.26', '566.94', '569.61', '572.29', '574.96', '577.64', '580.32', '583.0', '585.68', '588.36', '591.04', '593.73', '596.41', '599.1', '601.78', '604.47', '607.16', '609.85', '612.53', '615.23', '617.92', '620.61', '623.3', '626.0', '628.69', '631.39', '634.08', '636.78', '639.48', '642.18', '644.88', '647.58', '650.29', '652.99', '655.69', '658.4', '661.1', '663.81', '666.52', '669.23', '671.94', '674.65', '677.36', '680.07', '682.79', '685.5', '688.22', '690.93', '693.65', '696.37', '699.09', '701.81', '704.53', '707.25', '709.97', '712.7', '715.42', '718.15', '720.87', '723.6', '726.33', '729.06', '731.79', '734.52', '737.25', '739.98', '742.72', '745.45', '748.19', '750.93', '753.66', '756.4', '759.14', '761.88', '764.62', '767.36', '770.11', '772.85', '775.6', '778.34', '781.09', '783.84', '786.58', '789.33', '792.08', '794.84', '797.59', '800.34', '803.1', '805.85', '808.61', '811.36', '814.12', '816.88', '819.64', '822.4', '825.16', '827.92', '830.69', '833.45', '836.22', '838.98', '841.75', '844.52', '847.29', '850.06', '852.83', '855.6', '858.37', '861.14', '863.92', '866.69', '869.47', '872.25', '875.03', '877.8', '880.58', '883.37', '886.15', '888.93', '891.71', '894.5', '897.28', '900.07', '902.86', '905.64', '908.43', '911.22', '914.02', '916.81', '919.6', '922.39', '925.19', '927.98', '930.78', '933.58', '936.38', '939.18', '941.98', '944.78', '947.58', '950.38', '953.19', '955.99', '958.8', '961.6', '964.41', '967.22', '970.03', '972.84', '975.65', '978.46', '981.27', '984.09', '986.9', '989.72', '992.54', '995.35', '998.17', '1000.99', '1003.81'], 'unit': '(mW/cm^2*sr*um)*1000.0000', 'wavelength units': 'Nanometers', 'default bands': ['73', '50', '24']}\n",
      "[ 397.66  400.28  402.9   405.52  408.13  410.75  413.37  416.    418.62\n",
      "  421.24  423.86  426.49  429.12  431.74  434.37  437.    439.63  442.26\n",
      "  444.89  447.52  450.16  452.79  455.43  458.06  460.7   463.34  465.98\n",
      "  468.62  471.26  473.9   476.54  479.18  481.83  484.47  487.12  489.77\n",
      "  492.42  495.07  497.72  500.37  503.02  505.67  508.32  510.98  513.63\n",
      "  516.29  518.95  521.61  524.27  526.93  529.59  532.25  534.91  537.57\n",
      "  540.24  542.91  545.57  548.24  550.91  553.58  556.25  558.92  561.59\n",
      "  564.26  566.94  569.61  572.29  574.96  577.64  580.32  583.    585.68\n",
      "  588.36  591.04  593.73  596.41  599.1   601.78  604.47  607.16  609.85\n",
      "  612.53  615.23  617.92  620.61  623.3   626.    628.69  631.39  634.08\n",
      "  636.78  639.48  642.18  644.88  647.58  650.29  652.99  655.69  658.4\n",
      "  661.1   663.81  666.52  669.23  671.94  674.65  677.36  680.07  682.79\n",
      "  685.5   688.22  690.93  693.65  696.37  699.09  701.81  704.53  707.25\n",
      "  709.97  712.7   715.42  718.15  720.87  723.6   726.33  729.06  731.79\n",
      "  734.52  737.25  739.98  742.72  745.45  748.19  750.93  753.66  756.4\n",
      "  759.14  761.88  764.62  767.36  770.11  772.85  775.6   778.34  781.09\n",
      "  783.84  786.58  789.33  792.08  794.84  797.59  800.34  803.1   805.85\n",
      "  808.61  811.36  814.12  816.88  819.64  822.4   825.16  827.92  830.69\n",
      "  833.45  836.22  838.98  841.75  844.52  847.29  850.06  852.83  855.6\n",
      "  858.37  861.14  863.92  866.69  869.47  872.25  875.03  877.8   880.58\n",
      "  883.37  886.15  888.93  891.71  894.5   897.28  900.07  902.86  905.64\n",
      "  908.43  911.22  914.02  916.81  919.6   922.39  925.19  927.98  930.78\n",
      "  933.58  936.38  939.18  941.98  944.78  947.58  950.38  953.19  955.99\n",
      "  958.8   961.6   964.41  967.22  970.03  972.84  975.65  978.46  981.27\n",
      "  984.09  986.9   989.72  992.54  995.35  998.17 1000.99 1003.81]\n"
     ]
    },
    {
     "name": "stderr",
     "output_type": "stream",
     "text": [
      "c:\\Users\\haavasl\\AppData\\Local\\miniconda3\\envs\\specim\\lib\\site-packages\\spectral\\graphics\\spypylab.py:796: UserWarning: Failed to create RectangleSelector object. Interactive pixel class labeling will be unavailable.\n",
      "  warnings.warn(msg)\n"
     ]
    },
    {
     "data": {
      "text/plain": [
       "ImageView object:\n",
       "  Display bands       :  [73, 50, 24]\n",
       "  Interpolation       :  <default>\n",
       "  RGB data limits     :\n",
       "    R: [-9999.0, 9299.19140625]\n",
       "    G: [-9999.0, 9389.193359375]\n",
       "    B: [-9999.0, 8827.4384765625]"
      ]
     },
     "execution_count": 17,
     "metadata": {},
     "output_type": "execute_result"
    }
   ],
   "source": [
    "import numpy as np\n",
    "%matplotlib qt\n",
    "import spectral as sp\n",
    "dir = 'D:/HyperspectralDataAll/HI/2022-08-31-060000-Remoy-Specim/Output/GIS/HSIDatacubes/'\n",
    "spy_image = sp.io.envi.open(dir + '2022-08-31-060000-Remoy-Specim_transectnr_0_chunknr_0_north_east.hdr' , image = dir + '2022-08-31-060000-Remoy-Specim_transectnr_0_chunknr_0_north_east.bip')\n",
    "print(spy_image.metadata)\n",
    "spy_image.bands.centers = np.array(spy_image.metadata['wavelengths']).astype(float)\n",
    "print(spy_image.bands.centers)\n",
    "sp.imshow(spy_image)\n",
    "\n"
   ]
  },
  {
   "cell_type": "code",
   "execution_count": 3,
   "metadata": {},
   "outputs": [
    {
     "name": "stdout",
     "output_type": "stream",
     "text": [
      "Orthorectifying Images\n"
     ]
    },
    {
     "ename": "TypeError",
     "evalue": "resample_datacube() got an unexpected keyword argument 'chunk_size_GB'",
     "output_type": "error",
     "traceback": [
      "\u001b[1;31m---------------------------------------------------------------------------\u001b[0m",
      "\u001b[1;31mTypeError\u001b[0m                                 Traceback (most recent call last)",
      "Cell \u001b[1;32mIn[3], line 35\u001b[0m\n\u001b[0;32m     32\u001b[0m gisHSI\u001b[38;5;241m.\u001b[39mfootprint_to_shape_file()\n\u001b[0;32m     34\u001b[0m \u001b[38;5;66;03m# The step for which the datacube is resampled \u001b[39;00m\n\u001b[1;32m---> 35\u001b[0m \u001b[43mgisHSI\u001b[49m\u001b[38;5;241;43m.\u001b[39;49m\u001b[43mresample_datacube\u001b[49m\u001b[43m(\u001b[49m\u001b[43mhyp\u001b[49m\u001b[43m,\u001b[49m\u001b[43m \u001b[49m\u001b[43mrgb_composite_only\u001b[49m\u001b[38;5;241;43m=\u001b[39;49m\u001b[43mresample_rgb_only\u001b[49m\u001b[43m,\u001b[49m\u001b[43m \u001b[49m\u001b[43mchunk_size_GB\u001b[49m\u001b[43m \u001b[49m\u001b[38;5;241;43m=\u001b[39;49m\u001b[43m \u001b[49m\u001b[43mchunk_size_GB\u001b[49m\u001b[43m)\u001b[49m\n",
      "\u001b[1;31mTypeError\u001b[0m: resample_datacube() got an unexpected keyword argument 'chunk_size_GB'"
     ]
    }
   ],
   "source": [
    "config = configparser.ConfigParser()\n",
    "config.read(config_file_path)\n",
    "\n",
    "# Paths to 3D mesh ply file \n",
    "path_mesh = config['Absolute Paths']['modelPath']\n",
    "\n",
    "# Directory of H5 files\n",
    "dir_r = config['Absolute Paths']['h5Dir']\n",
    "\n",
    "# The path to the XML file\n",
    "hsi_cal_xml = config['Absolute Paths']['HSICalibFile']\n",
    "\n",
    "print('Orthorectifying Images')\n",
    "\n",
    "for filename in sorted(os.listdir(dir_r)):\n",
    "    if filename.endswith('h5') or filename.endswith('hdf'):\n",
    "        # Path to hierarchical file\n",
    "        path_hdf = dir_r + filename\n",
    "\n",
    "        # Read h5 file\n",
    "        hyp = Hyperspectral(path_hdf, config)\n",
    "\n",
    "        point_cloud_ecef = hyp.points_global\n",
    "\n",
    "        # Generates an object for dealing with GIS operations\n",
    "        gisHSI = GeoSpatialAbstractionHSI(point_cloud=point_cloud_ecef, \n",
    "                                            transect_string=filename.split('.')[0],\n",
    "                                            config=config)\n",
    "\n",
    "        gisHSI.transform_geocentric_to_projected()\n",
    "\n",
    "        gisHSI.footprint_to_shape_file()\n",
    "\n",
    "\n",
    "        # The step for which the datacube is resampled. The GLT should be written to h5 file\n",
    "        gisHSI.resample_datacube(hyp, rgb_composite_only=resample_rgb_only)\n",
    "\n",
    "        # The ancilliary data (natural to manipulate with DEMs, annotated classes, water masks etc)\n",
    "        gisHSI.resample_ancillary()"
   ]
  }
 ],
 "metadata": {
  "kernelspec": {
   "display_name": "Python 3",
   "language": "python",
   "name": "python3"
  },
  "language_info": {
   "codemirror_mode": {
    "name": "ipython",
    "version": 3
   },
   "file_extension": ".py",
   "mimetype": "text/x-python",
   "name": "python",
   "nbconvert_exporter": "python",
   "pygments_lexer": "ipython3",
   "version": "3.8.18"
  }
 },
 "nbformat": 4,
 "nbformat_minor": 2
}
